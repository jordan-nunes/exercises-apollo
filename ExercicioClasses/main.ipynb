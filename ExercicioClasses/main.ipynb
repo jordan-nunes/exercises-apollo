{
 "cells": [
  {
   "cell_type": "code",
   "execution_count": 2,
   "metadata": {},
   "outputs": [],
   "source": [
    "import pandas as pd\n",
    "\n",
    "dados_df = pd.read_csv(r'dados.csv', encoding='latin1')"
   ]
  },
  {
   "cell_type": "code",
   "execution_count": 6,
   "metadata": {},
   "outputs": [],
   "source": [
    "class Indicadores:\n",
    "\n",
    "    def __init__(self, dados):\n",
    "        self.dados_df = pd.read_csv(r'dados.csv', encoding='latin1')\n",
    "        pass\n",
    "    \n",
    "    # Função de buscar o que aparece com mais frequencia\n",
    "    def mais_frequente(self, dados):\n",
    "        #TODO\n",
    "        pass\n",
    "\n",
    "    def menos_frequente(self, dados):\n",
    "        #TODO\n",
    "        pass\n",
    "\n",
    "    def rendeu_mais(self, dados):\n",
    "        #TODO\n",
    "        pass\n",
    "\n",
    "    def rendeu_menos(self, dados):\n",
    "        #TODO\n",
    "        pass\n",
    "\n",
    "    def gerar_grafico(self, dados):\n",
    "        #TODO\n",
    "        pass\n",
    "\n",
    "\n",
    "\n",
    "\n",
    "class Cliente(Indicadores):\n",
    "\n",
    "    def __init__(self, dados):\n",
    "\n",
    "        pass\n",
    "\n",
    "class Produto(Indicadores):\n",
    "\n",
    "    def __init__(self, dados):\n",
    "        \n",
    "        pass\n",
    "\n",
    "class Loja(Indicadores):\n",
    "\n",
    "    def __init__(self, dados):\n",
    "        \n",
    "        pass"
   ]
  },
  {
   "cell_type": "code",
   "execution_count": null,
   "metadata": {},
   "outputs": [],
   "source": []
  }
 ],
 "metadata": {
  "kernelspec": {
   "display_name": "Python 3",
   "language": "python",
   "name": "python3"
  },
  "language_info": {
   "codemirror_mode": {
    "name": "ipython",
    "version": 3
   },
   "file_extension": ".py",
   "mimetype": "text/x-python",
   "name": "python",
   "nbconvert_exporter": "python",
   "pygments_lexer": "ipython3",
   "version": "3.12.1"
  }
 },
 "nbformat": 4,
 "nbformat_minor": 2
}
